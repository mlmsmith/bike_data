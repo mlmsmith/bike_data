{
 "cells": [
  {
   "cell_type": "code",
   "execution_count": 1,
   "id": "c39a79c4",
   "metadata": {},
   "outputs": [],
   "source": [
    "import pandas as pd\n",
    "import numpy as np\n",
    "import matplotlib.pylab as plt\n",
    "import seaborn as sns\n",
    "import pandasql as ps\n",
    "from pandas.api.types import CategoricalDtype\n",
    "plt.style.use('ggplot')"
   ]
  },
  {
   "cell_type": "code",
   "execution_count": 2,
   "id": "6b6c015f",
   "metadata": {},
   "outputs": [],
   "source": [
    "# Import data\n",
    "df = pd.read_csv(\"202202-divvy-tripdata.csv\")"
   ]
  },
  {
   "cell_type": "code",
   "execution_count": 3,
   "id": "fc45e054",
   "metadata": {},
   "outputs": [
    {
     "data": {
      "text/plain": [
       "ride_id                   0\n",
       "rideable_type             0\n",
       "started_at                0\n",
       "ended_at                  0\n",
       "start_station_name    18580\n",
       "start_station_id      18580\n",
       "end_station_name      20355\n",
       "end_station_id        20355\n",
       "start_lat                 0\n",
       "start_lng                 0\n",
       "end_lat                  77\n",
       "end_lng                  77\n",
       "member_casual             0\n",
       "dtype: int64"
      ]
     },
     "execution_count": 3,
     "metadata": {},
     "output_type": "execute_result"
    }
   ],
   "source": [
    "# Check for empty rows and columns and remove \n",
    "df.isnull().sum()"
   ]
  },
  {
   "cell_type": "markdown",
   "id": "8bbf6de1",
   "metadata": {},
   "source": [
    "# Add ride length and day of the week columns to dataframe\n",
    "## Eqivalent SQL queries: "
   ]
  },
  {
   "cell_type": "code",
   "execution_count": 4,
   "id": "9eb8122f",
   "metadata": {},
   "outputs": [],
   "source": [
    "# Convert date columns to datetime\n",
    "df['started_at'] = pd.to_datetime(df['started_at'])\n",
    "df['ended_at'] = pd.to_datetime(df['ended_at'])\n",
    "\n",
    "\n",
    "# Create ride length column\n",
    "df = df.assign(ride_length=lambda x: x.ended_at - x.started_at)\n",
    "\n",
    "# Create day of week column\n",
    "df = df.assign(day_of_week=lambda x: x.started_at.dt.day_name())\n",
    "\n",
    "# Create month column\n",
    "df = df.assign(month=lambda x: x.started_at.dt.month_name())\n"
   ]
  },
  {
   "cell_type": "markdown",
   "id": "851f6590",
   "metadata": {},
   "source": [
    "# Find the average ride length for each day of the week for both customer types\n",
    "## Eqivalent SQL query: \n",
    "## SELECT member_casual, day_of_week, AVG(ride_length_) \n",
    "## FROM df GROUP BY day_of_week, member_casual\n",
    "## ORDER BY day_of_week"
   ]
  },
  {
   "cell_type": "code",
   "execution_count": 5,
   "id": "3e8d7a06",
   "metadata": {},
   "outputs": [
    {
     "data": {
      "text/html": [
       "<div>\n",
       "<style scoped>\n",
       "    .dataframe tbody tr th:only-of-type {\n",
       "        vertical-align: middle;\n",
       "    }\n",
       "\n",
       "    .dataframe tbody tr th {\n",
       "        vertical-align: top;\n",
       "    }\n",
       "\n",
       "    .dataframe thead th {\n",
       "        text-align: right;\n",
       "    }\n",
       "</style>\n",
       "<table border=\"1\" class=\"dataframe\">\n",
       "  <thead>\n",
       "    <tr style=\"text-align: right;\">\n",
       "      <th></th>\n",
       "      <th>member_casual</th>\n",
       "      <th>day_of_week</th>\n",
       "      <th>ride_length</th>\n",
       "    </tr>\n",
       "  </thead>\n",
       "  <tbody>\n",
       "    <tr>\n",
       "      <th>0</th>\n",
       "      <td>casual</td>\n",
       "      <td>Friday</td>\n",
       "      <td>0 days 00:22:07.389177168</td>\n",
       "    </tr>\n",
       "    <tr>\n",
       "      <th>7</th>\n",
       "      <td>member</td>\n",
       "      <td>Friday</td>\n",
       "      <td>0 days 00:11:40.686371237</td>\n",
       "    </tr>\n",
       "    <tr>\n",
       "      <th>1</th>\n",
       "      <td>casual</td>\n",
       "      <td>Monday</td>\n",
       "      <td>0 days 00:24:54.209988649</td>\n",
       "    </tr>\n",
       "    <tr>\n",
       "      <th>8</th>\n",
       "      <td>member</td>\n",
       "      <td>Monday</td>\n",
       "      <td>0 days 00:11:21.877115646</td>\n",
       "    </tr>\n",
       "    <tr>\n",
       "      <th>2</th>\n",
       "      <td>casual</td>\n",
       "      <td>Saturday</td>\n",
       "      <td>0 days 00:27:08.951383960</td>\n",
       "    </tr>\n",
       "    <tr>\n",
       "      <th>9</th>\n",
       "      <td>member</td>\n",
       "      <td>Saturday</td>\n",
       "      <td>0 days 00:11:37.886854897</td>\n",
       "    </tr>\n",
       "    <tr>\n",
       "      <th>3</th>\n",
       "      <td>casual</td>\n",
       "      <td>Sunday</td>\n",
       "      <td>0 days 00:32:59.967902995</td>\n",
       "    </tr>\n",
       "    <tr>\n",
       "      <th>10</th>\n",
       "      <td>member</td>\n",
       "      <td>Sunday</td>\n",
       "      <td>0 days 00:12:15.226938216</td>\n",
       "    </tr>\n",
       "    <tr>\n",
       "      <th>4</th>\n",
       "      <td>casual</td>\n",
       "      <td>Thursday</td>\n",
       "      <td>0 days 00:27:28.953698775</td>\n",
       "    </tr>\n",
       "    <tr>\n",
       "      <th>11</th>\n",
       "      <td>member</td>\n",
       "      <td>Thursday</td>\n",
       "      <td>0 days 00:11:03.199312419</td>\n",
       "    </tr>\n",
       "    <tr>\n",
       "      <th>5</th>\n",
       "      <td>casual</td>\n",
       "      <td>Tuesday</td>\n",
       "      <td>0 days 00:26:53.477215644</td>\n",
       "    </tr>\n",
       "    <tr>\n",
       "      <th>12</th>\n",
       "      <td>member</td>\n",
       "      <td>Tuesday</td>\n",
       "      <td>0 days 00:11:15.980195583</td>\n",
       "    </tr>\n",
       "    <tr>\n",
       "      <th>6</th>\n",
       "      <td>casual</td>\n",
       "      <td>Wednesday</td>\n",
       "      <td>0 days 00:23:08.762866946</td>\n",
       "    </tr>\n",
       "    <tr>\n",
       "      <th>13</th>\n",
       "      <td>member</td>\n",
       "      <td>Wednesday</td>\n",
       "      <td>0 days 00:10:50.471969333</td>\n",
       "    </tr>\n",
       "  </tbody>\n",
       "</table>\n",
       "</div>"
      ],
      "text/plain": [
       "   member_casual day_of_week               ride_length\n",
       "0         casual      Friday 0 days 00:22:07.389177168\n",
       "7         member      Friday 0 days 00:11:40.686371237\n",
       "1         casual      Monday 0 days 00:24:54.209988649\n",
       "8         member      Monday 0 days 00:11:21.877115646\n",
       "2         casual    Saturday 0 days 00:27:08.951383960\n",
       "9         member    Saturday 0 days 00:11:37.886854897\n",
       "3         casual      Sunday 0 days 00:32:59.967902995\n",
       "10        member      Sunday 0 days 00:12:15.226938216\n",
       "4         casual    Thursday 0 days 00:27:28.953698775\n",
       "11        member    Thursday 0 days 00:11:03.199312419\n",
       "5         casual     Tuesday 0 days 00:26:53.477215644\n",
       "12        member     Tuesday 0 days 00:11:15.980195583\n",
       "6         casual   Wednesday 0 days 00:23:08.762866946\n",
       "13        member   Wednesday 0 days 00:10:50.471969333"
      ]
     },
     "execution_count": 5,
     "metadata": {},
     "output_type": "execute_result"
    }
   ],
   "source": [
    "df2 = df.groupby(['member_casual', 'day_of_week']).agg({'ride_length':np.mean}).reset_index()\\\n",
    ".sort_values(by=['day_of_week', 'member_casual']).copy()\n",
    "df2"
   ]
  },
  {
   "cell_type": "markdown",
   "id": "0617d382",
   "metadata": {},
   "source": [
    "# The average ride length for each month of the year for both customer types"
   ]
  },
  {
   "cell_type": "code",
   "execution_count": 6,
   "id": "54dcfbc8",
   "metadata": {},
   "outputs": [
    {
     "data": {
      "text/plain": [
       "<Axes: xlabel='member_casual', ylabel='ride_length'>"
      ]
     },
     "execution_count": 6,
     "metadata": {},
     "output_type": "execute_result"
    },
    {
     "data": {
      "image/png": "[encoded data removed]",
      "text/plain": [
       "<Figure size 640x480 with 1 Axes>"
      ]
     },
     "metadata": {},
     "output_type": "display_data"
    }
   ],
   "source": [
    "# select avg(ride_length), member_casual, month\n",
    "# from df\n",
    "# group by member_casual, month\n",
    "\n",
    "average_ride_length = df.groupby(['member_casual', 'month'], as_index=False)['ride_length'].mean()#.to_frame()\n",
    "# Convert average ride length column to int\n",
    "average_ride_length['ride_length'] = average_ride_length['ride_length'].astype(int)\n",
    "\n",
    "sns.barplot(x='member_casual', y='ride_length', data=average_ride_length)"
   ]
  },
  {
   "cell_type": "code",
   "execution_count": 7,
   "id": "09aa7a6b",
   "metadata": {},
   "outputs": [],
   "source": [
    "#plt.bar(df2['day_of_week'], df2['ride_length'])\n",
    "#sns.barplot(x='day of week', y='ride length', data=df2)\n",
    "\n",
    "#df['ride_length'].max()\n",
    "#print(ps.sqldf(q, globals()))\n",
    "#df.head()"
   ]
  },
  {
   "cell_type": "markdown",
   "id": "47216c80",
   "metadata": {},
   "source": [
    "# Total rides per month by each customer type\n",
    "## This shows that members typically have frequent, short trips"
   ]
  },
  {
   "cell_type": "code",
   "execution_count": 8,
   "id": "8d7b2a1a",
   "metadata": {},
   "outputs": [
    {
     "data": {
      "text/plain": [
       "<Axes: xlabel='member_casual', ylabel='rides_per_month'>"
      ]
     },
     "execution_count": 8,
     "metadata": {},
     "output_type": "execute_result"
    },
    {
     "data": {
      "image/png": "[encoded data removed]",
      "text/plain": [
       "<Figure size 640x480 with 1 Axes>"
      ]
     },
     "metadata": {},
     "output_type": "display_data"
    }
   ],
   "source": [
    "# select count(ride_id), member_casual, month from df\n",
    "# group by member_caual, month\n",
    "rpm = df.groupby(['member_casual', 'month'], as_index=False).agg(rides_per_month = ('ride_id', 'size'))\n",
    "#df.groupby(['member_casual', 'month'], as_index=False)['ride_id'].size()\n",
    "\n",
    "sns.barplot(x='member_casual', y='rides_per_month', hue='month', data=rpm)"
   ]
  },
  {
   "cell_type": "markdown",
   "id": "7850e41f",
   "metadata": {},
   "source": [
    "# Find most common bike type by customer type\n",
    "## The docked bikes are rarely used by either customer type, with the classic bike being favoured by members and the electric bike by casual customers"
   ]
  },
  {
   "cell_type": "code",
   "execution_count": 9,
   "id": "899da253",
   "metadata": {},
   "outputs": [
    {
     "data": {
      "text/plain": [
       "<Axes: xlabel='member_casual', ylabel='number_of_uses'>"
      ]
     },
     "execution_count": 9,
     "metadata": {},
     "output_type": "execute_result"
    },
    {
     "data": {
      "image/png": "[encoded data removed]",
      "text/plain": [
       "<Figure size 640x480 with 1 Axes>"
      ]
     },
     "metadata": {},
     "output_type": "display_data"
    }
   ],
   "source": [
    "#bike_popularity = df.groupby(['member_casual', 'rideable_type'], as_index=False)['rideable_type'].size()\n",
    "bike_popularity = df.groupby(['member_casual', 'rideable_type'], as_index=False)\\\n",
    ".agg(number_of_uses = ('rideable_type', 'size'))\n",
    "sns.barplot(x='member_casual', y='number_of_uses', hue='rideable_type', data=bike_popularity)"
   ]
  },
  {
   "cell_type": "markdown",
   "id": "62955c97",
   "metadata": {},
   "source": [
    "# Find most frequent start and end station by customer type"
   ]
  },
  {
   "cell_type": "code",
   "execution_count": 10,
   "id": "e62ed2fe",
   "metadata": {},
   "outputs": [
    {
     "data": {
      "text/html": [
       "<div>\n",
       "<style scoped>\n",
       "    .dataframe tbody tr th:only-of-type {\n",
       "        vertical-align: middle;\n",
       "    }\n",
       "\n",
       "    .dataframe tbody tr th {\n",
       "        vertical-align: top;\n",
       "    }\n",
       "\n",
       "    .dataframe thead th {\n",
       "        text-align: right;\n",
       "    }\n",
       "</style>\n",
       "<table border=\"1\" class=\"dataframe\">\n",
       "  <thead>\n",
       "    <tr style=\"text-align: right;\">\n",
       "      <th></th>\n",
       "      <th>start_station_name</th>\n",
       "      <th>member_casual</th>\n",
       "      <th>most_common_station</th>\n",
       "    </tr>\n",
       "  </thead>\n",
       "  <tbody>\n",
       "    <tr>\n",
       "      <th>0</th>\n",
       "      <td>Streeter Dr &amp; Grand Ave</td>\n",
       "      <td>casual</td>\n",
       "      <td>198</td>\n",
       "    </tr>\n",
       "    <tr>\n",
       "      <th>1</th>\n",
       "      <td>DuSable Lake Shore Dr &amp; Monroe St</td>\n",
       "      <td>casual</td>\n",
       "      <td>171</td>\n",
       "    </tr>\n",
       "    <tr>\n",
       "      <th>2</th>\n",
       "      <td>Millennium Park</td>\n",
       "      <td>casual</td>\n",
       "      <td>169</td>\n",
       "    </tr>\n",
       "    <tr>\n",
       "      <th>3</th>\n",
       "      <td>Clark St &amp; Elm St</td>\n",
       "      <td>casual</td>\n",
       "      <td>141</td>\n",
       "    </tr>\n",
       "    <tr>\n",
       "      <th>4</th>\n",
       "      <td>Wells St &amp; Elm St</td>\n",
       "      <td>casual</td>\n",
       "      <td>138</td>\n",
       "    </tr>\n",
       "    <tr>\n",
       "      <th>5</th>\n",
       "      <td>Shedd Aquarium</td>\n",
       "      <td>casual</td>\n",
       "      <td>138</td>\n",
       "    </tr>\n",
       "    <tr>\n",
       "      <th>6</th>\n",
       "      <td>Kingsbury St &amp; Kinzie St</td>\n",
       "      <td>casual</td>\n",
       "      <td>127</td>\n",
       "    </tr>\n",
       "    <tr>\n",
       "      <th>7</th>\n",
       "      <td>Sedgwick St &amp; North Ave</td>\n",
       "      <td>casual</td>\n",
       "      <td>121</td>\n",
       "    </tr>\n",
       "    <tr>\n",
       "      <th>8</th>\n",
       "      <td>Ashland Ave &amp; Division St</td>\n",
       "      <td>casual</td>\n",
       "      <td>118</td>\n",
       "    </tr>\n",
       "    <tr>\n",
       "      <th>9</th>\n",
       "      <td>Ellis Ave &amp; 60th St</td>\n",
       "      <td>casual</td>\n",
       "      <td>112</td>\n",
       "    </tr>\n",
       "    <tr>\n",
       "      <th>10</th>\n",
       "      <td>University Ave &amp; 57th St</td>\n",
       "      <td>member</td>\n",
       "      <td>1113</td>\n",
       "    </tr>\n",
       "    <tr>\n",
       "      <th>11</th>\n",
       "      <td>Ellis Ave &amp; 60th St</td>\n",
       "      <td>member</td>\n",
       "      <td>1088</td>\n",
       "    </tr>\n",
       "    <tr>\n",
       "      <th>12</th>\n",
       "      <td>Kingsbury St &amp; Kinzie St</td>\n",
       "      <td>member</td>\n",
       "      <td>1021</td>\n",
       "    </tr>\n",
       "    <tr>\n",
       "      <th>13</th>\n",
       "      <td>Clinton St &amp; Washington Blvd</td>\n",
       "      <td>member</td>\n",
       "      <td>817</td>\n",
       "    </tr>\n",
       "    <tr>\n",
       "      <th>14</th>\n",
       "      <td>Clinton St &amp; Madison St</td>\n",
       "      <td>member</td>\n",
       "      <td>748</td>\n",
       "    </tr>\n",
       "    <tr>\n",
       "      <th>15</th>\n",
       "      <td>Ellis Ave &amp; 55th St</td>\n",
       "      <td>member</td>\n",
       "      <td>707</td>\n",
       "    </tr>\n",
       "    <tr>\n",
       "      <th>16</th>\n",
       "      <td>Clark St &amp; Elm St</td>\n",
       "      <td>member</td>\n",
       "      <td>636</td>\n",
       "    </tr>\n",
       "    <tr>\n",
       "      <th>17</th>\n",
       "      <td>Clinton St &amp; Jackson Blvd</td>\n",
       "      <td>member</td>\n",
       "      <td>632</td>\n",
       "    </tr>\n",
       "    <tr>\n",
       "      <th>18</th>\n",
       "      <td>Wells St &amp; Concord Ln</td>\n",
       "      <td>member</td>\n",
       "      <td>586</td>\n",
       "    </tr>\n",
       "    <tr>\n",
       "      <th>19</th>\n",
       "      <td>Wells St &amp; Hubbard St</td>\n",
       "      <td>member</td>\n",
       "      <td>579</td>\n",
       "    </tr>\n",
       "  </tbody>\n",
       "</table>\n",
       "</div>"
      ],
      "text/plain": [
       "                   start_station_name member_casual  most_common_station\n",
       "0             Streeter Dr & Grand Ave        casual                  198\n",
       "1   DuSable Lake Shore Dr & Monroe St        casual                  171\n",
       "2                     Millennium Park        casual                  169\n",
       "3                   Clark St & Elm St        casual                  141\n",
       "4                   Wells St & Elm St        casual                  138\n",
       "5                      Shedd Aquarium        casual                  138\n",
       "6            Kingsbury St & Kinzie St        casual                  127\n",
       "7             Sedgwick St & North Ave        casual                  121\n",
       "8           Ashland Ave & Division St        casual                  118\n",
       "9                 Ellis Ave & 60th St        casual                  112\n",
       "10           University Ave & 57th St        member                 1113\n",
       "11                Ellis Ave & 60th St        member                 1088\n",
       "12           Kingsbury St & Kinzie St        member                 1021\n",
       "13       Clinton St & Washington Blvd        member                  817\n",
       "14            Clinton St & Madison St        member                  748\n",
       "15                Ellis Ave & 55th St        member                  707\n",
       "16                  Clark St & Elm St        member                  636\n",
       "17          Clinton St & Jackson Blvd        member                  632\n",
       "18              Wells St & Concord Ln        member                  586\n",
       "19              Wells St & Hubbard St        member                  579"
      ]
     },
     "execution_count": 10,
     "metadata": {},
     "output_type": "execute_result"
    }
   ],
   "source": [
    "# select count(start_station_name) as most_common_station, member_casual from df\n",
    "# group by member_casual\n",
    "# order by most_common_name desc\n",
    "\n",
    "df3 = df[df['member_casual'] == 'casual']\\\n",
    ".groupby(['start_station_name', 'member_casual'])\\\n",
    ".agg(most_common_station = ('start_station_name', 'size'))\\\n",
    ".sort_values('most_common_station', ascending = False).head(10)#.reset_index()\n",
    "\n",
    "df4 = df[df['member_casual'] == 'member']\\\n",
    ".groupby(['start_station_name', 'member_casual'])\\\n",
    ".agg(most_common_station = ('start_station_name', 'size'))\\\n",
    ".sort_values('most_common_station', ascending = False).head(10)#.reset_index()\n",
    "\n",
    "pd.concat([df3, df4], axis=0).reset_index()\n",
    "#pd.merge(df3, df4, how='outer')"
   ]
  },
  {
   "cell_type": "markdown",
   "id": "a06bd8e6",
   "metadata": {},
   "source": [
    "# Average ride start time for each day of the week by customer type"
   ]
  },
  {
   "cell_type": "code",
   "execution_count": 11,
   "id": "963edd02",
   "metadata": {},
   "outputs": [
    {
     "data": {
      "text/html": [
       "<div>\n",
       "<style scoped>\n",
       "    .dataframe tbody tr th:only-of-type {\n",
       "        vertical-align: middle;\n",
       "    }\n",
       "\n",
       "    .dataframe tbody tr th {\n",
       "        vertical-align: top;\n",
       "    }\n",
       "\n",
       "    .dataframe thead th {\n",
       "        text-align: right;\n",
       "    }\n",
       "</style>\n",
       "<table border=\"1\" class=\"dataframe\">\n",
       "  <thead>\n",
       "    <tr style=\"text-align: right;\">\n",
       "      <th></th>\n",
       "      <th>member_casual</th>\n",
       "      <th>day_of_week</th>\n",
       "      <th>average_start_time</th>\n",
       "    </tr>\n",
       "  </thead>\n",
       "  <tbody>\n",
       "    <tr>\n",
       "      <th>0</th>\n",
       "      <td>casual</td>\n",
       "      <td>Friday</td>\n",
       "      <td>2022-02-14 18:48:25.948480256</td>\n",
       "    </tr>\n",
       "    <tr>\n",
       "      <th>1</th>\n",
       "      <td>casual</td>\n",
       "      <td>Monday</td>\n",
       "      <td>2022-02-21 16:41:16.532576768</td>\n",
       "    </tr>\n",
       "    <tr>\n",
       "      <th>2</th>\n",
       "      <td>casual</td>\n",
       "      <td>Saturday</td>\n",
       "      <td>2022-02-18 10:03:38.809084416</td>\n",
       "    </tr>\n",
       "    <tr>\n",
       "      <th>3</th>\n",
       "      <td>casual</td>\n",
       "      <td>Sunday</td>\n",
       "      <td>2022-02-20 14:00:07.120304384</td>\n",
       "    </tr>\n",
       "    <tr>\n",
       "      <th>4</th>\n",
       "      <td>casual</td>\n",
       "      <td>Thursday</td>\n",
       "      <td>2022-02-15 05:18:52.139436032</td>\n",
       "    </tr>\n",
       "    <tr>\n",
       "      <th>5</th>\n",
       "      <td>casual</td>\n",
       "      <td>Tuesday</td>\n",
       "      <td>2022-02-12 03:28:47.644420608</td>\n",
       "    </tr>\n",
       "    <tr>\n",
       "      <th>6</th>\n",
       "      <td>casual</td>\n",
       "      <td>Wednesday</td>\n",
       "      <td>2022-02-15 16:54:43.216164608</td>\n",
       "    </tr>\n",
       "    <tr>\n",
       "      <th>7</th>\n",
       "      <td>member</td>\n",
       "      <td>Friday</td>\n",
       "      <td>2022-02-15 01:29:56.837123584</td>\n",
       "    </tr>\n",
       "    <tr>\n",
       "      <th>8</th>\n",
       "      <td>member</td>\n",
       "      <td>Monday</td>\n",
       "      <td>2022-02-20 02:26:22.354721024</td>\n",
       "    </tr>\n",
       "    <tr>\n",
       "      <th>9</th>\n",
       "      <td>member</td>\n",
       "      <td>Saturday</td>\n",
       "      <td>2022-02-17 10:20:02.784258816</td>\n",
       "    </tr>\n",
       "    <tr>\n",
       "      <th>10</th>\n",
       "      <td>member</td>\n",
       "      <td>Sunday</td>\n",
       "      <td>2022-02-18 18:54:54.055108864</td>\n",
       "    </tr>\n",
       "    <tr>\n",
       "      <th>11</th>\n",
       "      <td>member</td>\n",
       "      <td>Thursday</td>\n",
       "      <td>2022-02-15 00:37:02.407133440</td>\n",
       "    </tr>\n",
       "    <tr>\n",
       "      <th>12</th>\n",
       "      <td>member</td>\n",
       "      <td>Tuesday</td>\n",
       "      <td>2022-02-11 16:58:54.550587392</td>\n",
       "    </tr>\n",
       "    <tr>\n",
       "      <th>13</th>\n",
       "      <td>member</td>\n",
       "      <td>Wednesday</td>\n",
       "      <td>2022-02-15 21:27:28.267369472</td>\n",
       "    </tr>\n",
       "  </tbody>\n",
       "</table>\n",
       "</div>"
      ],
      "text/plain": [
       "   member_casual day_of_week            average_start_time\n",
       "0         casual      Friday 2022-02-14 18:48:25.948480256\n",
       "1         casual      Monday 2022-02-21 16:41:16.532576768\n",
       "2         casual    Saturday 2022-02-18 10:03:38.809084416\n",
       "3         casual      Sunday 2022-02-20 14:00:07.120304384\n",
       "4         casual    Thursday 2022-02-15 05:18:52.139436032\n",
       "5         casual     Tuesday 2022-02-12 03:28:47.644420608\n",
       "6         casual   Wednesday 2022-02-15 16:54:43.216164608\n",
       "7         member      Friday 2022-02-15 01:29:56.837123584\n",
       "8         member      Monday 2022-02-20 02:26:22.354721024\n",
       "9         member    Saturday 2022-02-17 10:20:02.784258816\n",
       "10        member      Sunday 2022-02-18 18:54:54.055108864\n",
       "11        member    Thursday 2022-02-15 00:37:02.407133440\n",
       "12        member     Tuesday 2022-02-11 16:58:54.550587392\n",
       "13        member   Wednesday 2022-02-15 21:27:28.267369472"
      ]
     },
     "execution_count": 11,
     "metadata": {},
     "output_type": "execute_result"
    }
   ],
   "source": [
    "# select avg(started_at), member_casual, day_of_week from df\n",
    "# member_casual, day_of_week\n",
    "\n",
    "df.groupby(['member_casual', 'day_of_week'], as_index=False)\\\n",
    ".agg(average_start_time = ('started_at', 'mean'))\n",
    "\n",
    "#start_times['average_start_time'] = start_times['average_start_time'].astype(int)\n",
    "#sns.barplot(x='member_casual', y='average_start_time', hue='day_of_week', data=start_times)"
   ]
  },
  {
   "cell_type": "markdown",
   "id": "70389dd9",
   "metadata": {},
   "source": [
    "# From the findings we can conclude ..."
   ]
  }
 ],
 "metadata": {
  "kernelspec": {
   "display_name": "venv",
   "language": "python",
   "name": "venv"
  },
  "language_info": {
   "codemirror_mode": {
    "name": "ipython",
    "version": 3
   },
   "file_extension": ".py",
   "mimetype": "text/x-python",
   "name": "python",
   "nbconvert_exporter": "python",
   "pygments_lexer": "ipython3",
   "version": "3.9.13"
  }
 },
 "nbformat": 4,
 "nbformat_minor": 5
}
